{
 "cells": [
  {
   "cell_type": "code",
   "execution_count": null,
   "id": "recent-crack",
   "metadata": {},
   "outputs": [],
   "source": [
    "!cd .. && pip3 install ."
   ]
  },
  {
   "cell_type": "markdown",
   "id": "meaning-conservative",
   "metadata": {},
   "source": [
    "# About\n",
    "\n",
    "In this example we will provide credentials manually from environment variable.\n",
    "\n",
    "## Prerequisite\n",
    "* Preconfigured AWS CLI"
   ]
  },
  {
   "cell_type": "code",
   "execution_count": 2,
   "id": "confident-punishment",
   "metadata": {},
   "outputs": [
    {
     "name": "stdout",
     "output_type": "stream",
     "text": [
      "config\tcredentials\r\n"
     ]
    }
   ],
   "source": [
    "!ls ~/.aws"
   ]
  },
  {
   "cell_type": "markdown",
   "id": "stuck-joyce",
   "metadata": {},
   "source": [
    "As you see, i have preconfigured credentials"
   ]
  },
  {
   "cell_type": "code",
   "execution_count": 4,
   "id": "wrapped-train",
   "metadata": {},
   "outputs": [],
   "source": [
    "import os\n",
    "import boto3\n",
    "import pandas as pd\n",
    "from pathlib import Path\n",
    "from dotenv import load_dotenv\n",
    "from S3SDK import S3SDK\n",
    "from IPython.core.interactiveshell import InteractiveShell\n",
    "InteractiveShell.ast_node_interactivity = 'all'"
   ]
  },
  {
   "cell_type": "code",
   "execution_count": 5,
   "id": "published-marketing",
   "metadata": {},
   "outputs": [
    {
     "data": {
      "text/plain": [
       "2"
      ]
     },
     "execution_count": 5,
     "metadata": {},
     "output_type": "execute_result"
    }
   ],
   "source": [
    "s3 = S3SDK()\n",
    "len(list(s3.list_buckets()))"
   ]
  }
 ],
 "metadata": {
  "kernelspec": {
   "display_name": "Python (waste-labs-dev-v2)",
   "language": "python",
   "name": "waste-labs-dev-v2"
  },
  "language_info": {
   "codemirror_mode": {
    "name": "ipython",
    "version": 3
   },
   "file_extension": ".py",
   "mimetype": "text/x-python",
   "name": "python",
   "nbconvert_exporter": "python",
   "pygments_lexer": "ipython3",
   "version": "3.8.5"
  }
 },
 "nbformat": 4,
 "nbformat_minor": 5
}
