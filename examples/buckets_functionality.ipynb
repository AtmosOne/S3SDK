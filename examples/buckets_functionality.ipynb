{
 "cells": [
  {
   "cell_type": "code",
   "execution_count": 1,
   "id": "intelligent-enzyme",
   "metadata": {},
   "outputs": [],
   "source": [
    "# !cd .. && pip3 install ."
   ]
  },
  {
   "cell_type": "markdown",
   "id": "irish-income",
   "metadata": {},
   "source": [
    "# About\n",
    "\n",
    "This is example notebook of S3SDK next functionality:\n",
    "1. Cleate bucket\n",
    "2. List buckets\n",
    "3. Delete bucket"
   ]
  },
  {
   "cell_type": "code",
   "execution_count": 2,
   "id": "express-adventure",
   "metadata": {},
   "outputs": [],
   "source": [
    "import os\n",
    "import pandas as pd\n",
    "import boto3\n",
    "import hashlib\n",
    "from S3SDK import S3SDK\n",
    "from IPython.core.interactiveshell import InteractiveShell\n",
    "from pathlib import Path\n",
    "from dotenv import load_dotenv\n",
    "load_dotenv(dotenv_path=Path('.') / '.env')\n",
    "InteractiveShell.ast_node_interactivity = 'all'\n",
    "\n",
    "\n",
    "# Preparation of credentials \n",
    "S3_BUCKET_NAME = 'mysampletestbucketforblablablatest3121'\n",
    "credentials = {\n",
    "    'aws_access_key_id': os.environ['AWS_ACCESS_KEY_ID'],\n",
    "    'aws_secret_access_key': os.environ['AWS_SECRET_ACCESS_KEY'],\n",
    "}\n",
    "\n",
    "# Init object with external credentials\n",
    "s3 = S3SDK(credentials=credentials,\n",
    "           bucket_name=S3_BUCKET_NAME,\n",
    "           region_name='ap-southeast-1')"
   ]
  },
  {
   "cell_type": "markdown",
   "id": "lasting-canvas",
   "metadata": {},
   "source": [
    "### 1. Create bucket"
   ]
  },
  {
   "cell_type": "code",
   "execution_count": 3,
   "id": "answering-westminster",
   "metadata": {},
   "outputs": [],
   "source": [
    "bucket_count = len(s3.list_buckets())\n",
    "s3.create_bucket()"
   ]
  },
  {
   "cell_type": "markdown",
   "id": "driving-issue",
   "metadata": {},
   "source": [
    "## 2. List buckets"
   ]
  },
  {
   "cell_type": "code",
   "execution_count": 4,
   "id": "subject-monte",
   "metadata": {},
   "outputs": [
    {
     "name": "stdout",
     "output_type": "stream",
     "text": [
      "438c310985de0709e7aa00892b8ce075\n",
      "c01b1043a9a144f23844f51ca635f832\n",
      "96c8be9723c2c8fd2ddd74b3ef1bb05a\n",
      "579bac3f494a2b503a2c17d522ae11f9\n"
     ]
    }
   ],
   "source": [
    "import hashlib\n",
    "\n",
    "\n",
    "for bucket_name in s3.list_buckets():\n",
    "    hash_object = hashlib.md5(bucket_name.encode())\n",
    "    print(hash_object.hexdigest())"
   ]
  },
  {
   "cell_type": "markdown",
   "id": "anticipated-editor",
   "metadata": {},
   "source": [
    "## 3. Delete bucket"
   ]
  },
  {
   "cell_type": "code",
   "execution_count": 5,
   "id": "emotional-study",
   "metadata": {},
   "outputs": [
    {
     "data": {
      "text/plain": [
       "{'ResponseMetadata': {'RequestId': 'A2EEE4A5B4A856E1',\n",
       "  'HostId': 'QxhVryXlXw3nCo44cI0mZuPsqm1DOD4CcwvDSDFZDw2nv60IXqKngolOitv4vptUG9SUZkeYpco=',\n",
       "  'HTTPStatusCode': 204,\n",
       "  'HTTPHeaders': {'x-amz-id-2': 'QxhVryXlXw3nCo44cI0mZuPsqm1DOD4CcwvDSDFZDw2nv60IXqKngolOitv4vptUG9SUZkeYpco=',\n",
       "   'x-amz-request-id': 'A2EEE4A5B4A856E1',\n",
       "   'date': 'Sat, 13 Feb 2021 19:18:37 GMT',\n",
       "   'server': 'AmazonS3'},\n",
       "  'RetryAttempts': 0}}"
      ]
     },
     "execution_count": 5,
     "metadata": {},
     "output_type": "execute_result"
    }
   ],
   "source": [
    "s3.delete_bucket()"
   ]
  }
 ],
 "metadata": {
  "kernelspec": {
   "display_name": "Python (waste-labs-dev)",
   "language": "python",
   "name": "waste-labs-dev"
  },
  "language_info": {
   "codemirror_mode": {
    "name": "ipython",
    "version": 3
   },
   "file_extension": ".py",
   "mimetype": "text/x-python",
   "name": "python",
   "nbconvert_exporter": "python",
   "pygments_lexer": "ipython3",
   "version": "3.8.1"
  }
 },
 "nbformat": 4,
 "nbformat_minor": 5
}
