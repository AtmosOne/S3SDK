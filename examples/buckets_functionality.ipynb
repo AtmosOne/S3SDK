{
 "cells": [
  {
   "cell_type": "code",
   "execution_count": 1,
   "id": "intelligent-enzyme",
   "metadata": {},
   "outputs": [
    {
     "name": "stdout",
     "output_type": "stream",
     "text": [
      "Processing /home/atmos/Hobby/S3SDK\n",
      "Requirement already satisfied: boto3 in /home/atmos/.venv/waste-labs-dev-v2/lib/python3.8/site-packages (from S3SDK==0.0.1) (1.17.10)\n",
      "Requirement already satisfied: s3transfer<0.4.0,>=0.3.0 in /home/atmos/.venv/waste-labs-dev-v2/lib/python3.8/site-packages (from boto3->S3SDK==0.0.1) (0.3.4)\n",
      "Requirement already satisfied: botocore<1.21.0,>=1.20.10 in /home/atmos/.venv/waste-labs-dev-v2/lib/python3.8/site-packages (from boto3->S3SDK==0.0.1) (1.20.10)\n",
      "Requirement already satisfied: jmespath<1.0.0,>=0.7.1 in /home/atmos/.venv/waste-labs-dev-v2/lib/python3.8/site-packages (from boto3->S3SDK==0.0.1) (0.10.0)\n",
      "Requirement already satisfied: urllib3<1.27,>=1.25.4 in /home/atmos/.venv/waste-labs-dev-v2/lib/python3.8/site-packages (from botocore<1.21.0,>=1.20.10->boto3->S3SDK==0.0.1) (1.26.3)\n",
      "Requirement already satisfied: python-dateutil<3.0.0,>=2.1 in /home/atmos/.venv/waste-labs-dev-v2/lib/python3.8/site-packages (from botocore<1.21.0,>=1.20.10->boto3->S3SDK==0.0.1) (2.8.1)\n",
      "Requirement already satisfied: six>=1.5 in /home/atmos/.venv/waste-labs-dev-v2/lib/python3.8/site-packages (from python-dateutil<3.0.0,>=2.1->botocore<1.21.0,>=1.20.10->boto3->S3SDK==0.0.1) (1.15.0)\n",
      "Building wheels for collected packages: S3SDK\n",
      "  Building wheel for S3SDK (setup.py) ... \u001b[?25ldone\n",
      "\u001b[?25h  Created wheel for S3SDK: filename=S3SDK-0.0.1-py3-none-any.whl size=3182 sha256=5890e2ad9a9e779f8c5191cc038ded21149a0ea6d633c133d12bf91f28c970b5\n",
      "  Stored in directory: /tmp/pip-ephem-wheel-cache-syp_fwtq/wheels/f7/97/f5/2d1424cb5652ad05a9089303e30ba6d9fd16805ce96a0756cf\n",
      "Successfully built S3SDK\n",
      "Installing collected packages: S3SDK\n",
      "  Attempting uninstall: S3SDK\n",
      "    Found existing installation: S3SDK 0.0.1\n",
      "    Uninstalling S3SDK-0.0.1:\n",
      "      Successfully uninstalled S3SDK-0.0.1\n",
      "Successfully installed S3SDK-0.0.1\n"
     ]
    }
   ],
   "source": [
    "!cd .. && pip3 install ."
   ]
  },
  {
   "cell_type": "markdown",
   "id": "irish-income",
   "metadata": {},
   "source": [
    "# About\n",
    "\n",
    "This is example notebook of S3SDK next functionality:\n",
    "1. Cleate bucket\n",
    "2. List buckets\n",
    "3. Delete bucket"
   ]
  },
  {
   "cell_type": "code",
   "execution_count": 2,
   "id": "express-adventure",
   "metadata": {},
   "outputs": [],
   "source": [
    "import os\n",
    "import pandas as pd\n",
    "import boto3\n",
    "import hashlib\n",
    "from S3SDK import S3SDK\n",
    "from IPython.core.interactiveshell import InteractiveShell\n",
    "from pathlib import Path\n",
    "from dotenv import load_dotenv\n",
    "load_dotenv(dotenv_path=Path('.') / '.env')\n",
    "InteractiveShell.ast_node_interactivity = 'all'\n",
    "\n",
    "import logging\n",
    "logger = logging.getLogger()\n",
    "logger.setLevel(logging.INFO)\n",
    "\n",
    "# Preparation of credentials \n",
    "S3_BUCKET_NAME = 'mysampletestbucketforblablablatest3121'\n",
    "credentials = {\n",
    "    'aws_access_key_id': os.environ['AWS_ACCESS_KEY_ID'],\n",
    "    'aws_secret_access_key': os.environ['AWS_SECRET_ACCESS_KEY'],\n",
    "}\n",
    "\n",
    "# Init object with external credentials\n",
    "s3 = S3SDK(credentials=credentials,\n",
    "           bucket_name=S3_BUCKET_NAME,\n",
    "           region_name='ap-southeast-1')"
   ]
  },
  {
   "cell_type": "markdown",
   "id": "lasting-canvas",
   "metadata": {},
   "source": [
    "### 1. Create bucket"
   ]
  },
  {
   "cell_type": "code",
   "execution_count": 3,
   "id": "answering-westminster",
   "metadata": {},
   "outputs": [],
   "source": [
    "bucket_count = len(s3.list_buckets())\n",
    "s3.create_bucket()"
   ]
  },
  {
   "cell_type": "markdown",
   "id": "driving-issue",
   "metadata": {},
   "source": [
    "## 2. List buckets"
   ]
  },
  {
   "cell_type": "code",
   "execution_count": 4,
   "id": "subject-monte",
   "metadata": {},
   "outputs": [
    {
     "name": "stdout",
     "output_type": "stream",
     "text": [
      "438c310985de0709e7aa00892b8ce075\n",
      "c01b1043a9a144f23844f51ca635f832\n",
      "96c8be9723c2c8fd2ddd74b3ef1bb05a\n",
      "579bac3f494a2b503a2c17d522ae11f9\n"
     ]
    }
   ],
   "source": [
    "import hashlib\n",
    "\n",
    "\n",
    "for bucket_name in s3.list_buckets():\n",
    "    hash_object = hashlib.md5(bucket_name.encode())\n",
    "    print(hash_object.hexdigest())"
   ]
  },
  {
   "cell_type": "markdown",
   "id": "anticipated-editor",
   "metadata": {},
   "source": [
    "## 3. Delete bucket"
   ]
  },
  {
   "cell_type": "code",
   "execution_count": 5,
   "id": "emotional-study",
   "metadata": {},
   "outputs": [
    {
     "data": {
      "text/plain": [
       "{'ResponseMetadata': {'RequestId': '30760A1BD8DA960D',\n",
       "  'HostId': '5V+xGHWEQer2AP+9TsapxwNZdZe7kUGwdIPiWlEfRj46TUZtl/bMHu1DaeeyyyL+KyvG2ieB/k8=',\n",
       "  'HTTPStatusCode': 204,\n",
       "  'HTTPHeaders': {'x-amz-id-2': '5V+xGHWEQer2AP+9TsapxwNZdZe7kUGwdIPiWlEfRj46TUZtl/bMHu1DaeeyyyL+KyvG2ieB/k8=',\n",
       "   'x-amz-request-id': '30760A1BD8DA960D',\n",
       "   'date': 'Thu, 18 Feb 2021 05:47:58 GMT',\n",
       "   'server': 'AmazonS3'},\n",
       "  'RetryAttempts': 0}}"
      ]
     },
     "execution_count": 5,
     "metadata": {},
     "output_type": "execute_result"
    }
   ],
   "source": [
    "s3.delete_bucket()"
   ]
  }
 ],
 "metadata": {
  "kernelspec": {
   "display_name": "Python (waste-labs-dev-v2)",
   "language": "python",
   "name": "waste-labs-dev-v2"
  },
  "language_info": {
   "codemirror_mode": {
    "name": "ipython",
    "version": 3
   },
   "file_extension": ".py",
   "mimetype": "text/x-python",
   "name": "python",
   "nbconvert_exporter": "python",
   "pygments_lexer": "ipython3",
   "version": "3.8.5"
  }
 },
 "nbformat": 4,
 "nbformat_minor": 5
}
