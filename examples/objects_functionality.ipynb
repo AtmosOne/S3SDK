{
 "cells": [
  {
   "cell_type": "code",
   "execution_count": 1,
   "id": "passive-topic",
   "metadata": {},
   "outputs": [],
   "source": [
    "# !cd .. && pip3 install ."
   ]
  },
  {
   "cell_type": "markdown",
   "id": "minimal-peripheral",
   "metadata": {},
   "source": [
    "# About\n",
    "\n",
    "This is example notebook of S3SDK next functionality:\n",
    "1. Upload file\n",
    "2. List objects\n",
    "3. Download object\n",
    "4. Delete object\n",
    "\n",
    "## Prerequisite\n",
    "Created bucket in AWS S3 as in screenshot below:\n",
    "\n",
    "![Created bucket](../images/s3bucket.png)"
   ]
  },
  {
   "cell_type": "code",
   "execution_count": 2,
   "id": "structured-bolivia",
   "metadata": {},
   "outputs": [],
   "source": [
    "import os\n",
    "import pandas as pd\n",
    "import boto3\n",
    "import hashlib\n",
    "from S3SDK import S3SDK\n",
    "from IPython.core.interactiveshell import InteractiveShell\n",
    "from pathlib import Path\n",
    "from dotenv import load_dotenv\n",
    "load_dotenv(dotenv_path=Path('.') / '.env')\n",
    "InteractiveShell.ast_node_interactivity = 'all'\n",
    "\n",
    "\n",
    "# Preparation of credentials \n",
    "S3_BUCKET_NAME = os.environ['S3_BUCKET_NAME']\n",
    "credentials = {\n",
    "    'aws_access_key_id': os.environ['AWS_ACCESS_KEY_ID'],\n",
    "    'aws_secret_access_key': os.environ['AWS_SECRET_ACCESS_KEY'],\n",
    "}\n",
    "\n",
    "# Init object with external credentials\n",
    "s3 = S3SDK(credentials=credentials, bucket_name=S3_BUCKET_NAME)"
   ]
  },
  {
   "cell_type": "markdown",
   "id": "better-excuse",
   "metadata": {},
   "source": [
    "## 1. Upload file\n",
    "* Upload file to bucket\n",
    "* Upload file to folder inside bucket\n"
   ]
  },
  {
   "cell_type": "code",
   "execution_count": 3,
   "id": "legal-namibia",
   "metadata": {},
   "outputs": [],
   "source": [
    "fname='Flowers.jpg'\n",
    "fpath=f'files/{fname}'"
   ]
  },
  {
   "cell_type": "markdown",
   "id": "adjustable-compound",
   "metadata": {},
   "source": [
    "#### 1.1 upload file to bucket"
   ]
  },
  {
   "cell_type": "code",
   "execution_count": 4,
   "id": "overall-desktop",
   "metadata": {},
   "outputs": [
    {
     "name": "stdout",
     "output_type": "stream",
     "text": [
      "CPU times: user 56.7 ms, sys: 8.12 ms, total: 64.8 ms\n",
      "Wall time: 8.64 s\n"
     ]
    }
   ],
   "source": [
    "%%time\n",
    "s3.upload_object(fpath_in_bucket=fname, fpath_local=fpath)"
   ]
  },
  {
   "cell_type": "markdown",
   "id": "central-cotton",
   "metadata": {},
   "source": [
    "#### 1.2 upload file to folder in bucket"
   ]
  },
  {
   "cell_type": "code",
   "execution_count": 5,
   "id": "studied-frank",
   "metadata": {},
   "outputs": [
    {
     "name": "stdout",
     "output_type": "stream",
     "text": [
      "CPU times: user 12 ms, sys: 3.11 ms, total: 15.1 ms\n",
      "Wall time: 4.49 s\n"
     ]
    }
   ],
   "source": [
    "%%time\n",
    "s3.upload_object(fpath_in_bucket=fpath, fpath_local=fpath)"
   ]
  },
  {
   "cell_type": "markdown",
   "id": "improving-better",
   "metadata": {},
   "source": [
    "## 2. List objects in bucket"
   ]
  },
  {
   "cell_type": "code",
   "execution_count": 6,
   "id": "partial-province",
   "metadata": {},
   "outputs": [
    {
     "data": {
      "text/plain": [
       "['Flowers.jpg', 'files/Flowers.jpg']"
      ]
     },
     "execution_count": 6,
     "metadata": {},
     "output_type": "execute_result"
    }
   ],
   "source": [
    "s3.list_objects()"
   ]
  },
  {
   "cell_type": "markdown",
   "id": "measured-excellence",
   "metadata": {},
   "source": [
    "## 3. Download object from bucket"
   ]
  },
  {
   "cell_type": "code",
   "execution_count": 7,
   "id": "reduced-turner",
   "metadata": {},
   "outputs": [
    {
     "data": {
      "text/plain": [
       "False"
      ]
     },
     "execution_count": 7,
     "metadata": {},
     "output_type": "execute_result"
    }
   ],
   "source": [
    "# rm -rf Flowers.jpg\n",
    "fname not in os.listdir('.')"
   ]
  },
  {
   "cell_type": "code",
   "execution_count": 8,
   "id": "technological-cowboy",
   "metadata": {},
   "outputs": [],
   "source": [
    "s3.download_object(fpath_in_bucket=fname,\n",
    "                   fpath_local=fname)"
   ]
  },
  {
   "cell_type": "code",
   "execution_count": 9,
   "id": "alternative-insert",
   "metadata": {},
   "outputs": [
    {
     "data": {
      "text/plain": [
       "True"
      ]
     },
     "execution_count": 9,
     "metadata": {},
     "output_type": "execute_result"
    }
   ],
   "source": [
    "fname in os.listdir('.')"
   ]
  },
  {
   "cell_type": "markdown",
   "id": "quiet-appreciation",
   "metadata": {},
   "source": [
    "## 4. Delete object"
   ]
  },
  {
   "cell_type": "code",
   "execution_count": 10,
   "id": "hollywood-prerequisite",
   "metadata": {},
   "outputs": [
    {
     "data": {
      "text/plain": [
       "{'ResponseMetadata': {'RequestId': 'FDAF63381C8C3BED',\n",
       "  'HostId': 'MHlqmExFAFIbXsm0tIdhMEcUlODH1LI1LW9sQrHFfsTqGglk4ckcyISEEsoDCy7RZYqhYRZTpQo=',\n",
       "  'HTTPStatusCode': 204,\n",
       "  'HTTPHeaders': {'x-amz-id-2': 'MHlqmExFAFIbXsm0tIdhMEcUlODH1LI1LW9sQrHFfsTqGglk4ckcyISEEsoDCy7RZYqhYRZTpQo=',\n",
       "   'x-amz-request-id': 'FDAF63381C8C3BED',\n",
       "   'date': 'Sat, 13 Feb 2021 19:07:05 GMT',\n",
       "   'server': 'AmazonS3'},\n",
       "  'RetryAttempts': 0}}"
      ]
     },
     "execution_count": 10,
     "metadata": {},
     "output_type": "execute_result"
    },
    {
     "data": {
      "text/plain": [
       "{'ResponseMetadata': {'RequestId': 'B5B27FE115029B17',\n",
       "  'HostId': 'eiKez6lCIK9Sj2qPIRTX5Xj7kvJsw+J2JBUXjY+KmhjYsZo33p9Fsa5uXQKykdpGbM7bfhuByQw=',\n",
       "  'HTTPStatusCode': 204,\n",
       "  'HTTPHeaders': {'x-amz-id-2': 'eiKez6lCIK9Sj2qPIRTX5Xj7kvJsw+J2JBUXjY+KmhjYsZo33p9Fsa5uXQKykdpGbM7bfhuByQw=',\n",
       "   'x-amz-request-id': 'B5B27FE115029B17',\n",
       "   'date': 'Sat, 13 Feb 2021 19:07:05 GMT',\n",
       "   'server': 'AmazonS3'},\n",
       "  'RetryAttempts': 0}}"
      ]
     },
     "execution_count": 10,
     "metadata": {},
     "output_type": "execute_result"
    }
   ],
   "source": [
    "s3.delete_object(fname)\n",
    "s3.delete_object(fpath)"
   ]
  },
  {
   "cell_type": "code",
   "execution_count": 11,
   "id": "relevant-basic",
   "metadata": {},
   "outputs": [
    {
     "data": {
      "text/plain": [
       "[]"
      ]
     },
     "execution_count": 11,
     "metadata": {},
     "output_type": "execute_result"
    }
   ],
   "source": [
    "s3.list_objects()"
   ]
  }
 ],
 "metadata": {
  "kernelspec": {
   "display_name": "Python (waste-labs-dev)",
   "language": "python",
   "name": "waste-labs-dev"
  },
  "language_info": {
   "codemirror_mode": {
    "name": "ipython",
    "version": 3
   },
   "file_extension": ".py",
   "mimetype": "text/x-python",
   "name": "python",
   "nbconvert_exporter": "python",
   "pygments_lexer": "ipython3",
   "version": "3.8.1"
  }
 },
 "nbformat": 4,
 "nbformat_minor": 5
}
