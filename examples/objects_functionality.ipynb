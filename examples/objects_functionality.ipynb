{
 "cells": [
  {
   "cell_type": "code",
   "execution_count": null,
   "id": "passive-topic",
   "metadata": {},
   "outputs": [],
   "source": [
    "# !cd .. && pip3 install ."
   ]
  },
  {
   "cell_type": "markdown",
   "id": "minimal-peripheral",
   "metadata": {},
   "source": [
    "# About\n",
    "\n",
    "This is example notebook of S3SDK next functionality:\n",
    "1. Upload file\n",
    "2. List objects\n",
    "3. Download object\n",
    "4. Delete object\n",
    "\n",
    "## Prerequisite\n",
    "Created bucket in AWS S3 as in screenshot below:\n",
    "\n",
    "![Created bucket](../images/s3bucket.png)"
   ]
  },
  {
   "cell_type": "code",
   "execution_count": 1,
   "id": "structured-bolivia",
   "metadata": {},
   "outputs": [],
   "source": [
    "import os\n",
    "import pandas as pd\n",
    "import hashlib\n",
    "from S3SDK import S3SDK\n",
    "from IPython.core.interactiveshell import InteractiveShell\n",
    "from pathlib import Path\n",
    "from dotenv import load_dotenv\n",
    "load_dotenv(dotenv_path=Path('.') / '.env')\n",
    "InteractiveShell.ast_node_interactivity = 'all'\n",
    "\n",
    "import logging\n",
    "logger = logging.getLogger()\n",
    "logger.setLevel(logging.INFO)\n",
    "\n",
    "\n",
    "# Preparation of credentials \n",
    "S3_BUCKET_NAME = os.environ['S3_BUCKET_NAME']\n",
    "credentials = {\n",
    "    'aws_access_key_id': os.environ['AWS_ACCESS_KEY_ID'],\n",
    "    'aws_secret_access_key': os.environ['AWS_SECRET_ACCESS_KEY'],\n",
    "}\n",
    "\n",
    "# Init object with external credentials\n",
    "s3 = S3SDK(credentials=credentials, bucket_name=S3_BUCKET_NAME)"
   ]
  },
  {
   "cell_type": "markdown",
   "id": "better-excuse",
   "metadata": {},
   "source": [
    "## 1. Upload file\n",
    "* Upload file to bucket\n",
    "* Upload file to folder inside bucket\n"
   ]
  },
  {
   "cell_type": "code",
   "execution_count": 2,
   "id": "legal-namibia",
   "metadata": {},
   "outputs": [],
   "source": [
    "fname='Flowers.jpg'\n",
    "fpath=f'files/{fname}'"
   ]
  },
  {
   "cell_type": "markdown",
   "id": "adjustable-compound",
   "metadata": {},
   "source": [
    "#### 1.1 upload file to bucket"
   ]
  },
  {
   "cell_type": "code",
   "execution_count": 5,
   "id": "overall-desktop",
   "metadata": {},
   "outputs": [
    {
     "name": "stderr",
     "output_type": "stream",
     "text": [
      "INFO:root:Time taken: 1.9936211109161377\n"
     ]
    },
    {
     "data": {
      "text/plain": [
       "True"
      ]
     },
     "execution_count": 5,
     "metadata": {},
     "output_type": "execute_result"
    }
   ],
   "source": [
    "s3.upload_object(fpath_in_bucket=fname, fpath_local=fpath)"
   ]
  },
  {
   "cell_type": "markdown",
   "id": "central-cotton",
   "metadata": {},
   "source": [
    "#### 1.2 upload file to folder in bucket"
   ]
  },
  {
   "cell_type": "code",
   "execution_count": 6,
   "id": "studied-frank",
   "metadata": {},
   "outputs": [
    {
     "name": "stderr",
     "output_type": "stream",
     "text": [
      "INFO:root:Time taken: 3.482011079788208\n"
     ]
    },
    {
     "name": "stdout",
     "output_type": "stream",
     "text": [
      "CPU times: user 12.4 ms, sys: 954 µs, total: 13.4 ms\n",
      "Wall time: 3.48 s\n"
     ]
    },
    {
     "data": {
      "text/plain": [
       "True"
      ]
     },
     "execution_count": 6,
     "metadata": {},
     "output_type": "execute_result"
    }
   ],
   "source": [
    "%%time\n",
    "s3.upload_object(fpath_in_bucket=fpath, fpath_local=fpath)"
   ]
  },
  {
   "cell_type": "markdown",
   "id": "improving-better",
   "metadata": {},
   "source": [
    "## 2. List objects in bucket"
   ]
  },
  {
   "cell_type": "code",
   "execution_count": 7,
   "id": "partial-province",
   "metadata": {},
   "outputs": [
    {
     "data": {
      "text/plain": [
       "['Flowers.jpg', 'files/Flowers.jpg']"
      ]
     },
     "execution_count": 7,
     "metadata": {},
     "output_type": "execute_result"
    }
   ],
   "source": [
    "s3.list_objects()"
   ]
  },
  {
   "cell_type": "markdown",
   "id": "measured-excellence",
   "metadata": {},
   "source": [
    "## 3. Download object from bucket"
   ]
  },
  {
   "cell_type": "code",
   "execution_count": 8,
   "id": "reduced-turner",
   "metadata": {},
   "outputs": [
    {
     "data": {
      "text/plain": [
       "True"
      ]
     },
     "execution_count": 8,
     "metadata": {},
     "output_type": "execute_result"
    }
   ],
   "source": [
    "# rm -rf Flowers.jpg\n",
    "fname not in os.listdir('.')"
   ]
  },
  {
   "cell_type": "code",
   "execution_count": null,
   "id": "technological-cowboy",
   "metadata": {},
   "outputs": [],
   "source": [
    "s3.download_object(fpath_in_bucket=fname,\n",
    "                   fpath_local=fname)"
   ]
  },
  {
   "cell_type": "code",
   "execution_count": null,
   "id": "alternative-insert",
   "metadata": {},
   "outputs": [],
   "source": [
    "fname in os.listdir('.')"
   ]
  },
  {
   "cell_type": "markdown",
   "id": "quiet-appreciation",
   "metadata": {},
   "source": [
    "## 4. Delete object"
   ]
  },
  {
   "cell_type": "code",
   "execution_count": null,
   "id": "hollywood-prerequisite",
   "metadata": {},
   "outputs": [],
   "source": [
    "s3.delete_object(fname)\n",
    "s3.delete_object(fpath)"
   ]
  },
  {
   "cell_type": "code",
   "execution_count": null,
   "id": "relevant-basic",
   "metadata": {},
   "outputs": [],
   "source": [
    "s3.list_objects()"
   ]
  }
 ],
 "metadata": {
  "kernelspec": {
   "display_name": "Python (waste-labs-dev-v2)",
   "language": "python",
   "name": "waste-labs-dev-v2"
  },
  "language_info": {
   "codemirror_mode": {
    "name": "ipython",
    "version": 3
   },
   "file_extension": ".py",
   "mimetype": "text/x-python",
   "name": "python",
   "nbconvert_exporter": "python",
   "pygments_lexer": "ipython3",
   "version": "3.8.5"
  }
 },
 "nbformat": 4,
 "nbformat_minor": 5
}
