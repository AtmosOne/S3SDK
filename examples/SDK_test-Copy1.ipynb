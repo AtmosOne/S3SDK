{
 "cells": [
  {
   "cell_type": "markdown",
   "id": "daily-bracelet",
   "metadata": {},
   "source": [
    "# Prerequisites\n",
    "\n",
    "1. I've created new `IAM` role on AWS\n",
    "1. Added new permissions to access to DynamoDB\n",
    "2. I've installed AWS CLI\n",
    "3. Created own virtualenvironment and kernel\n",
    "3. We need prepare our data\n",
    "\n"
   ]
  },
  {
   "cell_type": "code",
   "execution_count": 1,
   "id": "broadband-fitness",
   "metadata": {},
   "outputs": [],
   "source": [
    "import os\n",
    "import pandas as pd\n",
    "import boto3\n",
    "import hashlib\n",
    "from IPython.core.interactiveshell import InteractiveShell\n",
    "from settings import import_env_vars\n",
    "InteractiveShell.ast_node_interactivity = 'all'\n",
    "import_env_vars('../')\n",
    "\n",
    "DATA_DIR = '../data/OctoberGPS/'\n",
    "\n",
    "S3_BUCKET_NAME = os.environ['S3_BUCKET_NAME']\n",
    "credentials = {\n",
    "    'aws_access_key_id': os.environ['AWS_ACCESS_KEY_ID'],\n",
    "    'aws_secret_access_key': os.environ['AWS_SECRET_ACCESS_KEY'],\n",
    "    'region_name': os.environ['AWS_REGION']\n",
    "}"
   ]
  },
  {
   "cell_type": "markdown",
   "id": "excess-salmon",
   "metadata": {},
   "source": [
    "## Notebook goal\n",
    "\n",
    "Let's test next things:\n",
    "1. **Connection using default credentials provided in `~/.aws/credentials`**\n",
    "2. **Connection using external credentials**\n",
    "\n",
    "As a connection test i'll send record and read status message"
   ]
  },
  {
   "cell_type": "code",
   "execution_count": 2,
   "id": "julian-heather",
   "metadata": {},
   "outputs": [
    {
     "name": "stdout",
     "output_type": "stream",
     "text": [
      "482323ab65a0cd3695a983e88ab6ca9d\n",
      "79fa6431b018dc9774be08b4a501b56c\n",
      "96c8be9723c2c8fd2ddd74b3ef1bb05a\n",
      "579bac3f494a2b503a2c17d522ae11f9\n"
     ]
    }
   ],
   "source": [
    "s3 = boto3.resource('s3',**credentials)\n",
    "\n",
    "# PRINT bucket names hashed\n",
    "for bucket in s3.buckets.all():\n",
    "    print(hashlib.md5(bucket.name.encode()).hexdigest())"
   ]
  },
  {
   "cell_type": "markdown",
   "id": "mighty-minimum",
   "metadata": {},
   "source": [
    "Cool, connection is set up\n",
    "\n",
    "## 1. Objects upload"
   ]
  },
  {
   "cell_type": "code",
   "execution_count": 3,
   "id": "ranging-warren",
   "metadata": {},
   "outputs": [
    {
     "name": "stdout",
     "output_type": "stream",
     "text": [
      "CPU times: user 81 ms, sys: 8.33 ms, total: 89.3 ms\n",
      "Wall time: 24.3 s\n"
     ]
    }
   ],
   "source": [
    "%%time\n",
    "FNAME = os.listdir(DATA_DIR)[0]\n",
    "SAMPLE_FILE = DATA_DIR + FNAME\n",
    "\n",
    "s3.Object(S3_BUCKET_NAME, 'GPS/' + FNAME).upload_file(Filename=SAMPLE_FILE)"
   ]
  },
  {
   "cell_type": "code",
   "execution_count": 4,
   "id": "treated-champagne",
   "metadata": {},
   "outputs": [],
   "source": [
    "DATA_DIR = '../data/OctoberGPS/'\n",
    "\n",
    "def upload_to_s3(credentials, bucket_name, bucket_fpath, local_fpath):\n",
    "    s3 = boto3.resource('s3',**credentials)\n",
    "    s3.Object(bucket_name, bucket_fpath).upload_file(Filename=local_fpath)\n",
    "\n",
    "\n",
    "def upload_files_to_S3(local_fpaths, bucket_name, bucket_folder_path='',\n",
    "                       aws_access_key_id=None,\n",
    "                       aws_secret_access_key=None,\n",
    "                       region_name=None):\n",
    "    \"\"\"\n",
    "        Uploads your files to s3\n",
    "        \n",
    "        Arguments:\n",
    "            * local_fpaths (list<str>): Path to files in local\n",
    "    \"\"\"\n",
    "    # 1. Credentials generation\n",
    "    credentials = {}\n",
    "    if aws_access_key_id is not None: credentials['aws_access_key_id'] = aws_access_key_id\n",
    "    if aws_secret_access_key is not None: credentials['aws_secret_access_key'] = aws_secret_access_key\n",
    "    if region_name is not None: credentials['region_name'] = region_name\n",
    "    \n",
    "    # 3. Relative path in bucket\n",
    "    fnames = list(map(lambda x: x.rsplit('/', 1)[1], local_fpaths))\n",
    "    s3_fpaths = list(map(lambda x,y: x+y, [bucket_folder_path]*len(files), fnames))\n",
    "\n",
    "    for local_file, bucket_file in zip(local_fpaths, s3_fpaths):\n",
    "        upload_to_s3(credentials, bucket_name, bucket_file, local_file)"
   ]
  },
  {
   "cell_type": "code",
   "execution_count": 5,
   "id": "motivated-illinois",
   "metadata": {},
   "outputs": [
    {
     "name": "stdout",
     "output_type": "stream",
     "text": [
      "CPU times: user 873 µs, sys: 302 µs, total: 1.17 ms\n",
      "Wall time: 563 µs\n"
     ]
    }
   ],
   "source": [
    "%%time\n",
    "files = os.listdir(DATA_DIR)[:2]\n",
    "local_fpaths = list(map(lambda x,y: x+y, [DATA_DIR]*len(files), files))\n",
    "\n",
    "\n",
    "upload_files_to_S3(local_fpaths, S3_BUCKET_NAME, 'GPS/')"
   ]
  },
  {
   "cell_type": "markdown",
   "id": "combined-symphony",
   "metadata": {},
   "source": [
    "## 2. Listing files"
   ]
  },
  {
   "cell_type": "code",
   "execution_count": 11,
   "id": "rough-tribute",
   "metadata": {},
   "outputs": [
    {
     "name": "stdout",
     "output_type": "stream",
     "text": [
      "7d0999ecec4267ffa56a1c251de207c9\n",
      "839590c7872d53d433cbba8bf57e5a39\n",
      "bd2655a7a166d57dbf087f8c0f2b496b\n",
      "da6f973b11561366ed9179887e70daaa\n",
      "b33b1a4c81cd1312e0c44c0dbe1f657e\n",
      "d02c2c0e35659ad18c8b988c9382eade\n",
      "f05274fe1d9dde54bdd8b121dd486a38\n"
     ]
    }
   ],
   "source": [
    "pythonusecase = s3.Bucket(name = S3_BUCKET_NAME)\n",
    "\n",
    "for files in pythonusecase.objects.all():\n",
    "    print(hashlib.md5(files.key.encode()).hexdigest())"
   ]
  },
  {
   "cell_type": "markdown",
   "id": "vocational-religious",
   "metadata": {},
   "source": [
    "## 3. Download files"
   ]
  },
  {
   "cell_type": "code",
   "execution_count": null,
   "id": "reflected-charity",
   "metadata": {},
   "outputs": [],
   "source": [
    "%%time\n",
    "s3.Object(S3_BUCKET_NAME, FNAME).download_file(SAMPLE_FILE)"
   ]
  },
  {
   "cell_type": "markdown",
   "id": "olympic-affiliation",
   "metadata": {},
   "source": [
    "## 4. Delete object"
   ]
  }
 ],
 "metadata": {
  "kernelspec": {
   "display_name": "Python3.8 (DynamoDB)",
   "language": "python",
   "name": "dynamodb"
  },
  "language_info": {
   "codemirror_mode": {
    "name": "ipython",
    "version": 3
   },
   "file_extension": ".py",
   "mimetype": "text/x-python",
   "name": "python",
   "nbconvert_exporter": "python",
   "pygments_lexer": "ipython3",
   "version": "3.8.5"
  }
 },
 "nbformat": 4,
 "nbformat_minor": 5
}
