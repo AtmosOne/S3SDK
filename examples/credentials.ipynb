{
 "cells": [
  {
   "cell_type": "code",
   "execution_count": null,
   "id": "therapeutic-estimate",
   "metadata": {},
   "outputs": [],
   "source": [
    "# !cd .. && pip3 install ."
   ]
  },
  {
   "cell_type": "markdown",
   "id": "photographic-basket",
   "metadata": {},
   "source": [
    "# About\n",
    "\n",
    "In this example we will provide credentials manually from environment variable.\n",
    "\n",
    "## Prerequisite\n",
    "* Existing `.env` file"
   ]
  },
  {
   "cell_type": "code",
   "execution_count": 1,
   "id": "growing-puppy",
   "metadata": {},
   "outputs": [
    {
     "data": {
      "text/plain": [
       "True"
      ]
     },
     "execution_count": 1,
     "metadata": {},
     "output_type": "execute_result"
    }
   ],
   "source": [
    "import os\n",
    "import boto3\n",
    "import pandas as pd\n",
    "from pathlib import Path\n",
    "from dotenv import load_dotenv\n",
    "from S3SDK import S3SDK\n",
    "from IPython.core.interactiveshell import InteractiveShell\n",
    "InteractiveShell.ast_node_interactivity = 'all'\n",
    "\n",
    "\n",
    "def import_env_vars(path, env_fname='.env'):\n",
    "    \"\"\"\n",
    "        Function helps to initialize \n",
    "    \"\"\"\n",
    "    env_path = Path(path) / env_fname\n",
    "    return load_dotenv(dotenv_path=env_path)\n",
    "\n",
    "import_env_vars('./')"
   ]
  },
  {
   "cell_type": "markdown",
   "id": "junior-sarah",
   "metadata": {},
   "source": [
    "## 1. Access using key id & secret access key provided"
   ]
  },
  {
   "cell_type": "code",
   "execution_count": 2,
   "id": "worldwide-break",
   "metadata": {},
   "outputs": [
    {
     "data": {
      "text/plain": [
       "3"
      ]
     },
     "execution_count": 2,
     "metadata": {},
     "output_type": "execute_result"
    }
   ],
   "source": [
    "# Preparation of credentials \n",
    "S3_BUCKET_NAME = os.environ['S3_BUCKET_NAME']\n",
    "credentials = {\n",
    "    'aws_access_key_id': os.environ['AWS_ACCESS_KEY_ID'],\n",
    "    'aws_secret_access_key': os.environ['AWS_SECRET_ACCESS_KEY'],\n",
    "}\n",
    "\n",
    "# Init object with external credentials\n",
    "s3 = S3SDK(credentials=credentials, bucket_name=S3_BUCKET_NAME)\n",
    "\n",
    "len(list(s3.list_buckets()))"
   ]
  },
  {
   "cell_type": "markdown",
   "id": "european-conversation",
   "metadata": {},
   "source": [
    "## 2. Access using preconfigure AWS CLI\n",
    "Indeed, aws cli just adds as environment variables your credentials) "
   ]
  },
  {
   "cell_type": "code",
   "execution_count": 4,
   "id": "premier-chambers",
   "metadata": {},
   "outputs": [
    {
     "data": {
      "text/plain": [
       "3"
      ]
     },
     "execution_count": 4,
     "metadata": {},
     "output_type": "execute_result"
    }
   ],
   "source": [
    "s3 = S3SDK()\n",
    "len(list(s3.list_buckets()))"
   ]
  }
 ],
 "metadata": {
  "kernelspec": {
   "display_name": "Python (waste-labs-dev)",
   "language": "python",
   "name": "waste-labs-dev"
  },
  "language_info": {
   "codemirror_mode": {
    "name": "ipython",
    "version": 3
   },
   "file_extension": ".py",
   "mimetype": "text/x-python",
   "name": "python",
   "nbconvert_exporter": "python",
   "pygments_lexer": "ipython3",
   "version": "3.8.1"
  }
 },
 "nbformat": 4,
 "nbformat_minor": 5
}
