{
 "cells": [
  {
   "cell_type": "code",
   "execution_count": 1,
   "id": "passive-topic",
   "metadata": {},
   "outputs": [
    {
     "name": "stdout",
     "output_type": "stream",
     "text": [
      "Processing /home/atmos/Hobby/S3SDK\n",
      "Requirement already satisfied: boto3 in /home/atmos/.venv/waste-labs-dev-v2/lib/python3.8/site-packages (from S3SDK==0.0.1) (1.16.63)\n",
      "Requirement already satisfied: botocore<1.20.0,>=1.19.63 in /home/atmos/.venv/waste-labs-dev-v2/lib/python3.8/site-packages (from boto3->S3SDK==0.0.1) (1.19.63)\n",
      "Requirement already satisfied: jmespath<1.0.0,>=0.7.1 in /home/atmos/.venv/waste-labs-dev-v2/lib/python3.8/site-packages (from boto3->S3SDK==0.0.1) (0.10.0)\n",
      "Requirement already satisfied: s3transfer<0.4.0,>=0.3.0 in /home/atmos/.venv/waste-labs-dev-v2/lib/python3.8/site-packages (from boto3->S3SDK==0.0.1) (0.3.4)\n",
      "Requirement already satisfied: urllib3<1.27,>=1.25.4; python_version != \"3.4\" in /home/atmos/.venv/waste-labs-dev-v2/lib/python3.8/site-packages (from botocore<1.20.0,>=1.19.63->boto3->S3SDK==0.0.1) (1.26.3)\n",
      "Requirement already satisfied: python-dateutil<3.0.0,>=2.1 in /home/atmos/.venv/waste-labs-dev-v2/lib/python3.8/site-packages (from botocore<1.20.0,>=1.19.63->boto3->S3SDK==0.0.1) (2.8.1)\n",
      "Requirement already satisfied: six>=1.5 in /home/atmos/.venv/waste-labs-dev-v2/lib/python3.8/site-packages (from python-dateutil<3.0.0,>=2.1->botocore<1.20.0,>=1.19.63->boto3->S3SDK==0.0.1) (1.15.0)\n",
      "Building wheels for collected packages: S3SDK\n",
      "  Building wheel for S3SDK (setup.py) ... \u001b[?25ldone\n",
      "\u001b[?25h  Created wheel for S3SDK: filename=S3SDK-0.0.1-py3-none-any.whl size=2566 sha256=82b9b74df267e3704902dbc6b90a8e21bb77c6f2f8ad4038fb413134ccdad6bf\n",
      "  Stored in directory: /tmp/pip-ephem-wheel-cache-wths0wp0/wheels/f7/97/f5/2d1424cb5652ad05a9089303e30ba6d9fd16805ce96a0756cf\n",
      "Successfully built S3SDK\n",
      "Installing collected packages: S3SDK\n",
      "  Attempting uninstall: S3SDK\n",
      "    Found existing installation: S3SDK 0.0.1\n",
      "    Uninstalling S3SDK-0.0.1:\n",
      "      Successfully uninstalled S3SDK-0.0.1\n",
      "Successfully installed S3SDK-0.0.1\n"
     ]
    }
   ],
   "source": [
    "!cd .. && pip3 install ."
   ]
  },
  {
   "cell_type": "markdown",
   "id": "minimal-peripheral",
   "metadata": {},
   "source": [
    "# About\n",
    "\n",
    "In this example we will upload file to bucket using SDK\n",
    "\n",
    "## Prerequisite\n",
    "Created bucket in AWS S3 as in screenshot below:\n",
    "\n",
    "![Created bucket](../images/s3bucket.png)"
   ]
  },
  {
   "cell_type": "code",
   "execution_count": 2,
   "id": "structured-bolivia",
   "metadata": {},
   "outputs": [],
   "source": [
    "import os\n",
    "import boto3\n",
    "import pandas as pd\n",
    "from pathlib import Path\n",
    "from dotenv import load_dotenv\n",
    "from S3SDK import S3SDK\n",
    "from IPython.core.interactiveshell import InteractiveShell\n",
    "InteractiveShell.ast_node_interactivity = 'all'\n",
    "\n",
    "s3 = S3SDK(bucket_name='mytestawsbucketforexample')\n",
    "\n",
    "sample_file = '../../../Pictures/Wallpapers/leo-rivas-OR_3rbIv5yI-unsplash.jpg'"
   ]
  },
  {
   "cell_type": "markdown",
   "id": "finite-aurora",
   "metadata": {},
   "source": [
    "## 1. List objects in bucket"
   ]
  },
  {
   "cell_type": "code",
   "execution_count": 3,
   "id": "leading-sweet",
   "metadata": {},
   "outputs": [
    {
     "data": {
      "text/plain": [
       "[]"
      ]
     },
     "execution_count": 3,
     "metadata": {},
     "output_type": "execute_result"
    }
   ],
   "source": [
    "s3.list_objects()"
   ]
  },
  {
   "cell_type": "markdown",
   "id": "better-excuse",
   "metadata": {},
   "source": [
    "## 2. Upload file\n",
    "* Upload file to bucket\n",
    "* Upload file to folder inside bucket\n"
   ]
  },
  {
   "cell_type": "code",
   "execution_count": 4,
   "id": "legal-namibia",
   "metadata": {},
   "outputs": [
    {
     "name": "stdout",
     "output_type": "stream",
     "text": [
      "CPU times: user 16 ms, sys: 2.89 ms, total: 18.9 ms\n",
      "Wall time: 15.6 s\n"
     ]
    }
   ],
   "source": [
    "%%time\n",
    "f_to_bucket = 'leo-rivas-OR_3rbIv5yI-unsplash.jpg'\n",
    "f_to_bucket_folder = f'images/{f_to_bucket}'\n",
    "f_to_bucket\n",
    "f_to_bucket_folder\n",
    "\n",
    "# 1. Upload to bucket\n",
    "s3.upload_object(fpath_in_bucket=f_to_bucket,\n",
    "                 fpath_local=sample_file)"
   ]
  },
  {
   "cell_type": "code",
   "execution_count": null,
   "id": "studied-frank",
   "metadata": {},
   "outputs": [],
   "source": [
    "%%time\n",
    "s3.upload_object(fpath_in_bucket=f_to_bucket_folder,\n",
    "                 fpath_local=sample_file)"
   ]
  },
  {
   "cell_type": "code",
   "execution_count": null,
   "id": "partial-province",
   "metadata": {},
   "outputs": [],
   "source": [
    "s3.list_objects()"
   ]
  }
 ],
 "metadata": {
  "kernelspec": {
   "display_name": "Python (waste-labs-dev-v2)",
   "language": "python",
   "name": "waste-labs-dev-v2"
  },
  "language_info": {
   "codemirror_mode": {
    "name": "ipython",
    "version": 3
   },
   "file_extension": ".py",
   "mimetype": "text/x-python",
   "name": "python",
   "nbconvert_exporter": "python",
   "pygments_lexer": "ipython3",
   "version": "3.8.5"
  }
 },
 "nbformat": 4,
 "nbformat_minor": 5
}
